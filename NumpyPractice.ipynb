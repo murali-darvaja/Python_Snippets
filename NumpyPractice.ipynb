{
 "cells": [
  {
   "cell_type": "code",
   "execution_count": 1,
   "metadata": {},
   "outputs": [],
   "source": [
    "from IPython.core.interactiveshell import InteractiveShell\n",
    "\n",
    "InteractiveShell.ast_node_interactivity = \"all\"\n",
    "\n",
    "import numpy as np\n",
    "import matplotlib.pyplot as plt"
   ]
  },
  {
   "cell_type": "code",
   "execution_count": 1,
   "metadata": {},
   "outputs": [
    {
     "name": "stdout",
     "output_type": "stream",
     "text": [
      "[1 2 3 4]\n",
      "(4,)\n",
      "1\n",
      "4\n",
      "[0 0 0]\n",
      "[1 1 1]\n",
      "[-1.04688486e+281 -2.88947105e+039]\n",
      "[0 1 2 3 4]\n",
      "[2 4 6 8]\n",
      "[ 0.   2.5  5.   7.5 10. ]\n",
      "[11 12 13 14 15 16 17 18 19 20]\n",
      "[ 0  2  3  4  5  6  7 12 13 14]\n"
     ]
    }
   ],
   "source": [
    "a = np.array([1,2,3,4])\n",
    "print(a)\n",
    "print(a.shape)\n",
    "#printing the no of dimentions or rank\n",
    "print(a.ndim)\n",
    "#priniting the total number of elements\n",
    "print(a.size)\n",
    "print(np.zeros(3, dtype=np.int64))\n",
    "print(np.ones(3,dtype=np.int64))\n",
    "print(np.empty(2))\n",
    "print(np.arange(5))\n",
    "print(np.arange(2, 9, 2))\n",
    "print(np.linspace(0,10, num=5))\n",
    "\n",
    "# get unique values from an array\n",
    "a=np.array([11, 11, 12, 13, 14, 15, 16, 17, 12, 13, 11, 14, 18, 19, 20])\n",
    "print(np.unique(a))\n",
    "unique_values, indexes = np.unique(a, return_index=True)\n",
    "print(indexes)\n",
    "\n"
   ]
  },
  {
   "cell_type": "code",
   "execution_count": 25,
   "metadata": {},
   "outputs": [
    {
     "name": "stdout",
     "output_type": "stream",
     "text": [
      "[5.e-324 5.e-324 5.e-324]\n"
     ]
    }
   ],
   "source": [
    "print(np.sort(np.empty(3)))"
   ]
  },
  {
   "cell_type": "code",
   "execution_count": 37,
   "metadata": {},
   "outputs": [
    {
     "name": "stdout",
     "output_type": "stream",
     "text": [
      "[[0 1 0 1 0 1 0 1]\n",
      " [1 0 1 0 1 0 1 0]\n",
      " [0 1 0 1 0 1 0 1]\n",
      " [1 0 1 0 1 0 1 0]\n",
      " [0 1 0 1 0 1 0 1]\n",
      " [1 0 1 0 1 0 1 0]\n",
      " [0 1 0 1 0 1 0 1]\n",
      " [1 0 1 0 1 0 1 0]]\n"
     ]
    }
   ],
   "source": [
    "x = np.zeros((8,8), dtype=np.int64)\n",
    "x[1::2,::2]=1\n",
    "x[::2,1::2]=1\n",
    "print(x)"
   ]
  },
  {
   "cell_type": "code",
   "execution_count": 41,
   "metadata": {},
   "outputs": [
    {
     "name": "stdout",
     "output_type": "stream",
     "text": [
      "[[1 1 1 1 1]\n",
      " [1 0 0 0 1]\n",
      " [1 0 0 0 1]\n",
      " [1 0 0 0 1]\n",
      " [1 1 1 1 1]]\n"
     ]
    }
   ],
   "source": [
    "y=np.ones([5,5],dtype=np.int64)\n",
    "y[1:-1,1:-1] = np.zeros([3,3])\n",
    "print(y)"
   ]
  },
  {
   "cell_type": "code",
   "execution_count": 12,
   "metadata": {},
   "outputs": [
    {
     "name": "stdout",
     "output_type": "stream",
     "text": [
      "[1 2 3 4 5 6 7 8]\n",
      "[ 0  1  2  3  4  5  6  7  8  9 10]\n",
      "[[0 1]\n",
      " [2 3]\n",
      " [4 5]]\n",
      "[[0]\n",
      " [1]\n",
      " [2]\n",
      " [3]\n",
      " [4]\n",
      " [5]]\n"
     ]
    }
   ],
   "source": [
    "#sorting\n",
    "arr = np.array([2, 1, 5, 3, 7, 4, 6, 8])\n",
    "arr = np.sort(arr)\n",
    "print(arr)\n",
    "\n",
    "#concatenating\n",
    "arr1 = np.arange(4)\n",
    "arr2 = np.arange(4,11)\n",
    "print(np.concatenate((arr1,arr2)))\n",
    "\n",
    "#Reshape\n",
    "\"\"\"for reshape you need to have the same number of elements in the reshaped array as the original array\"\"\"\n",
    "arr_reshape = np.arange(6)\n",
    "print(arr_reshape.reshape(3,2))\n",
    "print(arr_reshape.reshape(6,1))"
   ]
  },
  {
   "cell_type": "code",
   "execution_count": 18,
   "metadata": {},
   "outputs": [
    {
     "name": "stdout",
     "output_type": "stream",
     "text": [
      "[1 2 3 4]\n",
      "[ 5  6  7  8  9 10 11 12]\n",
      "[ 2  4  6  8 10 12]\n",
      "[[ True  True False False]\n",
      " [False False False  True]\n",
      " [ True  True  True  True]]\n",
      "[ 1  2  8  9 10 11 12]\n"
     ]
    }
   ],
   "source": [
    "#slicing based on conditions\n",
    "a= np.array([[1 , 2, 3, 4], [5, 6, 7, 8], [9, 10, 11, 12]])\n",
    "print(a[a<5])\n",
    "five_up=(a>=5)\n",
    "print(a[five_up])\n",
    "evens = (a%2==0)\n",
    "print(a[evens])\n",
    "complex_conditions = ((a<3)|(a>7))\n",
    "print(complex_conditions)\n",
    "print(a[complex_conditions])"
   ]
  },
  {
   "cell_type": "code",
   "execution_count": 30,
   "metadata": {},
   "outputs": [
    {
     "name": "stdout",
     "output_type": "stream",
     "text": [
      "[5 8 3 2]\n",
      "[3 6 1 0]\n",
      "[15 48  3  0]\n",
      "[1.25       1.14285714 1.5        2.        ]\n",
      "14\n",
      "[[1 1]\n",
      " [2 3]]\n",
      "[3 4]\n",
      "[2 5]\n",
      "[1.6 4.8 8. ]\n"
     ]
    }
   ],
   "source": [
    "#Arithmatic operations\n",
    "a= np.array([4,7,2,1])\n",
    "b = np.ones(4, dtype=int)\n",
    "print(a+b)\n",
    "print(a-b)\n",
    "print((a+b)*(a-b))\n",
    "print((a+b)/(a*b))\n",
    "#sum of all the elements\n",
    "print(a.sum())\n",
    "#sum the elements row and column wise in a 2d matrix\n",
    "b = np.array([[1,1],[2,3]])\n",
    "print(b)\n",
    "print(b.sum(axis=0))\n",
    "print(b.sum(axis=1))\n",
    "\n",
    "#broadcasting - multiplying an array with another array or a singular value\n",
    "#converting miles to KMs\n",
    "distance_miles = np.array([1,3,5])\n",
    "distance_kms = 1.6*distance_miles\n",
    "print(distance_kms)\n",
    "\n"
   ]
  },
  {
   "cell_type": "code",
   "execution_count": 38,
   "metadata": {},
   "outputs": [
    {
     "name": "stdout",
     "output_type": "stream",
     "text": [
      "12\n",
      "[ 4  8 12]\n",
      "[ 9 10 11 12]\n",
      "1\n",
      "78\n",
      "[15 18 21 24]\n",
      "6.5\n",
      "[5. 6. 7. 8.]\n"
     ]
    }
   ],
   "source": [
    "#min, max,min ,prod,mean, std\n",
    "data=np.array([[1,2,3,4],[5,6,7,8],[9,10,11,12]])\n",
    "print(data.max())\n",
    "#max each row\n",
    "print(data.max(axis=1))\n",
    "#max each column\n",
    "print(data.max(axis=0))\n",
    "print(data.min())\n",
    "print(data.sum())\n",
    "#sum column wise\n",
    "print(data.sum(axis=0))\n",
    "print(data.mean())\n",
    "print(data.mean(axis=0))\n"
   ]
  },
  {
   "cell_type": "code",
   "execution_count": 15,
   "metadata": {},
   "outputs": [
    {
     "name": "stdout",
     "output_type": "stream",
     "text": [
      "[11 12 13 14 15 16 17 18 19 20]\n",
      "[(11, 0), (12, 2), (13, 3), (14, 4), (15, 5), (16, 6), (17, 7), (18, 12), (19, 13), (20, 14)]\n",
      "[(11, 0, 3), (12, 2, 2), (13, 3, 2), (14, 4, 2), (15, 5, 1), (16, 6, 1), (17, 7, 1), (18, 12, 1), (19, 13, 1), (20, 14, 1)]\n",
      "[1 2 3 4]\n",
      "[[1 2 3]\n",
      " [1 4 4]\n",
      " [2 1 3]\n",
      " [1 2 3]]\n",
      "[[1 2 3 1]\n",
      " [1 4 4 1]\n",
      " [2 1 3 2]]\n"
     ]
    }
   ],
   "source": [
    "#unique Values and Counts\n",
    "a = np.array([11, 11, 12, 13, 14, 15, 16, 17, 12, 13, 11, 14, 18, 19, 20])\n",
    "unique_values = np.unique(a)\n",
    "print(unique_values)\n",
    "#unique vals and their indexes\n",
    "unique_vals, indexes = np.unique(a, return_index=True)\n",
    "print(list(zip(unique_vals,indexes)))\n",
    "#unique vals, indexes and their counts\n",
    "unique_vals, indexes, counts = np.unique(a, return_counts=True, return_index=True)\n",
    "print(list(zip(unique_vals,indexes,counts)))\n",
    "\n",
    "# unique values on matrix and tensors \n",
    "a_2d = np.array([[1, 2, 3, 1], [1, 4, 4, 1], [2, 1, 3, 2], [1, 2, 3, 1]])\n",
    "print(np.unique(a_2d))\n",
    "#unique columns\n",
    "print(np.unique(a_2d, axis=1))\n",
    "#unique rows\n",
    "print(np.unique(a_2d, axis=0))\n"
   ]
  },
  {
   "cell_type": "code",
   "execution_count": 24,
   "metadata": {},
   "outputs": [
    {
     "name": "stdout",
     "output_type": "stream",
     "text": [
      "[[ 1  2]\n",
      " [ 3  4]\n",
      " [ 5  6]\n",
      " [ 7  8]\n",
      " [ 9 10]\n",
      " [11 12]]\n",
      "[[ 1  5  9]\n",
      " [ 2  6 10]\n",
      " [ 3  7 11]\n",
      " [ 4  8 12]]\n",
      "[5 4 3 2 1 0]\n",
      "[[12 11 10  9]\n",
      " [ 8  7  6  5]\n",
      " [ 4  3  2  1]]\n",
      "[[ 9 10 11 12]\n",
      " [ 5  6  7  8]\n",
      " [ 1  2  3  4]]\n",
      "[[ 4  3  2  1]\n",
      " [ 8  7  6  5]\n",
      " [12 11 10  9]]\n",
      "[[ 1  2  3  4]\n",
      " [ 8  7  6  5]\n",
      " [ 9 10 11 12]]\n",
      "[[ 1 10  3  4]\n",
      " [ 8  7  6  5]\n",
      " [ 9  2 11 12]]\n"
     ]
    }
   ],
   "source": [
    "#transpose and reshape of matrix\n",
    "data=np.array([[1,2,3,4],[5,6,7,8],[9,10,11,12]])\n",
    "print(data.reshape((6,2)))\n",
    "print(data.T)\n",
    "#flip or reverse of a np array\n",
    "ar = np.arange(6)\n",
    "print(np.flip(ar))\n",
    "#for a 2d matrix\n",
    "arr_2d = np.array([[1, 2, 3, 4], [5, 6, 7, 8], [9, 10, 11, 12]])\n",
    "#reverse both  columns and rows if no axis specified\n",
    "print(np.flip(arr_2d))\n",
    "#reverse just rows\n",
    "print(np.flip(arr_2d,axis=0))\n",
    "#reverse just columns\n",
    "print(np.flip(arr_2d,axis=1))\n",
    "#REVERSE Just one column or row\n",
    "arr_2d[1]=np.flip(arr_2d[1])\n",
    "print(arr_2d)\n",
    "arr_2d[:,1]=np.flip(arr_2d[:,1])\n",
    "print(arr_2d)"
   ]
  },
  {
   "cell_type": "code",
   "execution_count": 31,
   "metadata": {},
   "outputs": [
    {
     "name": "stdout",
     "output_type": "stream",
     "text": [
      "[100   2   3   4   5   6   7   8   9  10  11  12]\n",
      "[[ 1  2  3  4]\n",
      " [ 5  6  7  8]\n",
      " [ 9 10 11 12]]\n",
      "[99  2  3  4  5  6  7  8  9 10 11 12]\n",
      "[[111   2   3   4]\n",
      " [  5   6   7   8]\n",
      " [  9  10  11  12]]\n",
      "[111   2   3   4   5   6   7   8   9  10  11  12]\n"
     ]
    }
   ],
   "source": [
    "#flatten and Ravel \n",
    "a = np.array([[1 , 2, 3, 4], [5, 6, 7, 8], [9, 10, 11, 12]])\n",
    "a1 =a.flatten()\n",
    "a1[0]=100\n",
    "print(a1)\n",
    "print(a)\n",
    "\n",
    "# in ravel there is link between the source and ravel array any change one of them effect the other,\n",
    "# where as in flatten it doesn't effect\n",
    "b = np.array([[1 , 2, 3, 4], [5, 6, 7, 8], [9, 10, 11, 12]])\n",
    "b1 = b.ravel()\n",
    "b1[0]=99\n",
    "print(b1)\n",
    "b[(0,0)]=111\n",
    "print(b)\n",
    "print(b1)"
   ]
  },
  {
   "cell_type": "code",
   "execution_count": 14,
   "metadata": {},
   "outputs": [
    {
     "data": {
      "text/plain": [
       "array([[0., 0., 0., 0.],\n",
       "       [1., 1., 1., 1.],\n",
       "       [2., 2., 2., 2.],\n",
       "       [3., 3., 3., 3.],\n",
       "       [4., 4., 4., 4.],\n",
       "       [5., 5., 5., 5.],\n",
       "       [6., 6., 6., 6.],\n",
       "       [7., 7., 7., 7.]])"
      ]
     },
     "execution_count": 14,
     "metadata": {},
     "output_type": "execute_result"
    },
    {
     "data": {
      "text/plain": [
       "array([[4., 4., 4., 4.],\n",
       "       [2., 2., 2., 2.],\n",
       "       [6., 6., 6., 6.],\n",
       "       [0., 0., 0., 0.]])"
      ]
     },
     "execution_count": 14,
     "metadata": {},
     "output_type": "execute_result"
    },
    {
     "data": {
      "text/plain": [
       "array([[7., 7., 7., 7.],\n",
       "       [5., 5., 5., 5.],\n",
       "       [2., 2., 2., 2.]])"
      ]
     },
     "execution_count": 14,
     "metadata": {},
     "output_type": "execute_result"
    },
    {
     "data": {
      "text/plain": [
       "array([[ 0,  1,  2,  3],\n",
       "       [ 4,  5,  6,  7],\n",
       "       [ 8,  9, 10, 11],\n",
       "       [12, 13, 14, 15],\n",
       "       [16, 17, 18, 19],\n",
       "       [20, 21, 22, 23],\n",
       "       [24, 25, 26, 27],\n",
       "       [28, 29, 30, 31]])"
      ]
     },
     "execution_count": 14,
     "metadata": {},
     "output_type": "execute_result"
    },
    {
     "data": {
      "text/plain": [
       "array([19,  4, 21, 30])"
      ]
     },
     "execution_count": 14,
     "metadata": {},
     "output_type": "execute_result"
    },
    {
     "data": {
      "text/plain": [
       "array([[ 5,  4,  7,  6],\n",
       "       [17, 16, 19, 18],\n",
       "       [21, 20, 23, 22],\n",
       "       [29, 28, 31, 30]])"
      ]
     },
     "execution_count": 14,
     "metadata": {},
     "output_type": "execute_result"
    }
   ],
   "source": [
    "#fancy indexing\n",
    "a2d=np.empty((8,4))\n",
    "for i in range(8):\n",
    "    a2d[i]=i\n",
    "a2d\n",
    "#selects rows at the given indexes in the list\n",
    "a2d[[4,2,6,0]]\n",
    "a2d[[-1,-3,2]]\n",
    "\n",
    "#given two list it selects the particular elements combined by the two lists\n",
    "a2d2=np.arange(32).reshape((8,4))\n",
    "a2d2\n",
    "a2d2[[4,1,5,7],[3,0,1,2]]\n",
    "#select each row from the first list and select the corresponding element from the select list\n",
    "a2d2[[1,4,5,7]][:,[1,0,3,2]]"
   ]
  },
  {
   "cell_type": "code",
   "execution_count": 34,
   "metadata": {},
   "outputs": [
    {
     "data": {
      "text/plain": [
       "array([[1, 1, 0, 0],\n",
       "       [0, 0, 0, 0],\n",
       "       [1, 1, 1, 1],\n",
       "       [1, 1, 0, 1]])"
      ]
     },
     "execution_count": 34,
     "metadata": {},
     "output_type": "execute_result"
    },
    {
     "data": {
      "text/plain": [
       "47"
      ]
     },
     "execution_count": 34,
     "metadata": {},
     "output_type": "execute_result"
    },
    {
     "data": {
      "text/plain": [
       "array([2, 3, 2, 0, 3, 2, 2, 4, 3, 0])"
      ]
     },
     "execution_count": 34,
     "metadata": {},
     "output_type": "execute_result"
    },
    {
     "data": {
      "text/plain": [
       "array([ -1,  -2,  -3,  -2,  -3,  -4,  -3,  -4,  -3,  -2,  -1,   0,  -1,\n",
       "        -2,  -3,  -4,  -5,  -4,  -3,  -4,  -3,  -2,  -1,   0,  -1,  -2,\n",
       "        -1,   0,  -1,   0,   1,   0,   1,   2,   3,   2,   3,   4,   5,\n",
       "         6,   7,   6,   7,   8,   7,   8,   9,   8,   7,   8,   9,   8,\n",
       "         9,  10,  11,  10,   9,  10,   9,   8,   9,  10,  11,  10,  11,\n",
       "        10,  11,  12,  13,  14,  15,  16,  15,  16,  15,  14,  13,  14,\n",
       "        13,  12,  13,  12,  13,  12,  13,  14,  15,  14,  15,  16,  15,\n",
       "        14,  15,  14,  13,  14,  13,  14,  13,  12,  13,  12,  11,  10,\n",
       "        11,  12,  13,  14,  15,  14,  15,  16,  15,  14,  13,  12,  11,\n",
       "        12,  13,  12,  13,  12,  11,  12,  11,  12,  11,  12,  13,  14,\n",
       "        15,  14,  13,  12,  11,  10,  11,  10,  11,  10,   9,  10,   9,\n",
       "        10,   9,   8,   7,   6,   5,   4,   5,   6,   5,   6,   7,   8,\n",
       "         7,   6,   7,   6,   7,   6,   5,   4,   3,   4,   3,   2,   3,\n",
       "         2,   3,   4,   5,   6,   7,   8,   9,  10,  11,  10,   9,  10,\n",
       "         9,  10,   9,   8,   9,   8,   9,  10,   9,  10,   9,   8,   7,\n",
       "         8,   9,  10,   9,  10,   9,   8,   7,   6,   5,   6,   5,   4,\n",
       "         5,   6,   7,   8,   9,   8,   7,   8,   7,   8,   7,   8,   7,\n",
       "         6,   5,   4,   5,   4,   5,   6,   7,   8,   9,   8,   9,  10,\n",
       "         9,   8,   7,   8,   7,   6,   5,   4,   5,   6,   5,   4,   5,\n",
       "         4,   3,   4,   5,   6,   7,   8,   7,   8,   7,   8,   9,   8,\n",
       "         9,   8,   7,   8,   9,   8,   7,   6,   5,   6,   7,   8,   9,\n",
       "        10,  11,  10,  11,  12,  13,  14,  15,  14,  13,  12,  11,  10,\n",
       "        11,  10,   9,  10,  11,  10,  11,  12,  13,  14,  15,  14,  15,\n",
       "        16,  17,  18,  17,  18,  19,  20,  21,  20,  19,  20,  19,  18,\n",
       "        17,  16,  17,  16,  17,  18,  17,  16,  15,  16,  15,  16,  17,\n",
       "        18,  17,  18,  19,  18,  19,  20,  19,  20,  21,  22,  21,  20,\n",
       "        19,  18,  19,  18,  17,  16,  17,  18,  17,  18,  17,  18,  17,\n",
       "        16,  17,  18,  19,  20,  21,  22,  23,  22,  21,  20,  19,  20,\n",
       "        21,  20,  21,  20,  21,  22,  21,  20,  19,  20,  21,  20,  19,\n",
       "        18,  17,  18,  17,  18,  19,  18,  17,  18,  17,  16,  15,  14,\n",
       "        15,  16,  15,  16,  15,  16,  15,  14,  15,  14,  15,  14,  13,\n",
       "        14,  15,  14,  15,  16,  15,  16,  15,  16,  15,  16,  15,  14,\n",
       "        15,  16,  15,  16,  15,  16,  17,  18,  19,  18,  19,  20,  19,\n",
       "        18,  19,  18,  19,  18,  17,  18,  19,  18,  17,  16,  17,  18,\n",
       "        17,  16,  17,  16,  15,  14,  15,  14,  15,  16,  15,  14,  15,\n",
       "        14,  15,  14,  15,  16,  17,  18,  19,  20,  19,  18,  19,  18,\n",
       "        17,  16,  15,  16,  15,  16,  15,  14,  15,  14,  15,  14,  15,\n",
       "        14,  13,  12,  13,  14,  13,  14,  13,  12,  11,  12,  13,  12,\n",
       "        13,  12,  13,  12,  11,  12,  13,  14,  15,  16,  17,  18,  17,\n",
       "        16,  17,  16,  17,  16,  15,  16,  17,  18,  17,  18,  17,  18,\n",
       "        19,  18,  17,  16,  15,  14,  13,  14,  15,  16,  15,  16,  15,\n",
       "        16,  17,  16,  15,  14,  13,  12,  13,  12,  11,  12,  11,  12,\n",
       "        11,  12,  11,  12,  11,  10,   9,  10,  11,  10,   9,   8,   7,\n",
       "         6,   7,   6,   5,   4,   3,   2,   1,   2,   1,   0,  -1,   0,\n",
       "        -1,  -2,  -3,  -2,  -3,  -4,  -5,  -6,  -7,  -6,  -7,  -6,  -5,\n",
       "        -6,  -5,  -4,  -3,  -4,  -5,  -6,  -5,  -4,  -3,  -4,  -5,  -6,\n",
       "        -7,  -8,  -9, -10, -11, -10, -11, -12, -11, -12, -13, -12, -11,\n",
       "       -10, -11, -12, -11, -10,  -9,  -8,  -9,  -8,  -9,  -8,  -7,  -8,\n",
       "        -7,  -6,  -7,  -6,  -5,  -6,  -5,  -4,  -5,  -6,  -7,  -6,  -5,\n",
       "        -4,  -5,  -6,  -5,  -6,  -7,  -8,  -9,  -8,  -7,  -6,  -5,  -4,\n",
       "        -5,  -4,  -5,  -4,  -5,  -4,  -3,  -4,  -3,  -4,  -5,  -6,  -5,\n",
       "        -4,  -3,  -2,  -1,   0,  -1,  -2,  -3,  -2,  -3,  -4,  -5,  -4,\n",
       "        -3,  -2,  -3,  -4,  -5,  -6,  -5,  -6,  -7,  -6,  -7,  -6,  -7,\n",
       "        -6,  -7,  -6,  -7,  -8,  -7,  -8,  -7,  -8,  -9, -10, -11, -12,\n",
       "       -13, -14, -13, -12, -13, -12, -13, -14, -15, -16, -17, -18, -19,\n",
       "       -18, -17, -16, -15, -14, -15, -16, -15, -16, -15, -14, -13, -12,\n",
       "       -13, -14, -13, -12, -11, -10,  -9,  -8,  -9, -10, -11, -10,  -9,\n",
       "        -8,  -9, -10,  -9, -10,  -9,  -8,  -9, -10, -11, -12, -13, -14,\n",
       "       -15, -14, -13, -12, -13, -12, -11, -10,  -9,  -8,  -9, -10, -11,\n",
       "       -10, -11, -12, -13, -14, -13, -14, -15, -14, -15, -16, -15, -16,\n",
       "       -17, -18, -17, -16, -15, -16, -15, -16, -17, -18, -17, -16, -15,\n",
       "       -14, -13, -14, -13, -14, -13, -12, -13, -14, -13, -12, -11, -12,\n",
       "       -11, -12, -13, -14, -15, -14, -13, -12, -11, -10, -11, -12, -11,\n",
       "       -10,  -9, -10, -11, -12, -13, -12, -11, -12, -11, -10, -11, -12,\n",
       "       -11, -10,  -9, -10,  -9,  -8,  -7,  -6,  -7,  -8,  -7,  -8,  -9,\n",
       "        -8,  -7,  -8,  -9,  -8,  -9, -10,  -9, -10, -11, -12, -13, -14,\n",
       "       -13, -12, -11, -12, -11, -12, -13, -12, -13, -12, -11, -12, -11,\n",
       "       -10, -11, -12, -11, -10,  -9, -10,  -9, -10,  -9,  -8,  -7,  -8,\n",
       "        -9,  -8,  -9,  -8,  -7,  -8,  -7,  -8,  -9, -10, -11, -12, -11,\n",
       "       -10,  -9, -10, -11, -12, -13, -12, -13, -14, -13, -14, -15, -14,\n",
       "       -13, -12, -11, -12, -11, -12, -13, -14, -13, -14, -15, -14, -13,\n",
       "       -12, -13, -14, -15, -14, -13, -14, -15, -16, -17, -18, -19, -20,\n",
       "       -19, -20, -19, -18, -17, -18, -19, -18, -17, -18, -19, -20, -21,\n",
       "       -20, -21, -22, -21, -22, -21, -22, -21, -22, -23, -22, -23, -22,\n",
       "       -23, -22, -21, -20, -19, -20, -19, -20, -21, -20, -19, -20, -19,\n",
       "       -20, -21, -20, -19, -20, -19, -20, -21, -22, -21, -22, -21, -22,\n",
       "       -21, -22, -23, -22, -21, -20, -19, -20, -19, -20, -21, -20],\n",
       "      dtype=int32)"
      ]
     },
     "execution_count": 34,
     "metadata": {},
     "output_type": "execute_result"
    },
    {
     "data": {
      "text/plain": [
       "-23"
      ]
     },
     "execution_count": 34,
     "metadata": {},
     "output_type": "execute_result"
    },
    {
     "data": {
      "text/plain": [
       "23"
      ]
     },
     "execution_count": 34,
     "metadata": {},
     "output_type": "execute_result"
    },
    {
     "data": {
      "text/plain": [
       "0"
      ]
     },
     "execution_count": 34,
     "metadata": {},
     "output_type": "execute_result"
    }
   ],
   "source": [
    "#where condition in np\n",
    "a2dd = np.random.rand(4,4)\n",
    "np.where(a2dd>0.5,1,0)\n",
    "\n",
    "#boolean operations\n",
    "arr = np.random.randn(100)\n",
    "#check values greater than 0\n",
    "(arr>0).sum()\n",
    "np.random.randint(0,5, size=10)\n",
    "\n",
    "#cumulative sum of 1000 coin flips\n",
    "draws = np.random.randint(0,2,size=1000)\n",
    "#set 1 if its heads else -1\n",
    "steps =np.where(draws>0,1,-1)\n",
    "#generate cumulative values of each turn\n",
    "walks = steps.cumsum()\n",
    "walks\n",
    "walks.min()\n",
    "walks.max()\n",
    "#check the first position where it reached abs 30\n",
    "(np.abs(walks)>30).argmax()\n",
    "\n"
   ]
  },
  {
   "cell_type": "code",
   "execution_count": null,
   "metadata": {},
   "outputs": [],
   "source": []
  },
  {
   "cell_type": "code",
   "execution_count": null,
   "metadata": {},
   "outputs": [],
   "source": []
  }
 ],
 "metadata": {
  "kernelspec": {
   "display_name": "Python 3",
   "language": "python",
   "name": "python3"
  },
  "language_info": {
   "codemirror_mode": {
    "name": "ipython",
    "version": 3
   },
   "file_extension": ".py",
   "mimetype": "text/x-python",
   "name": "python",
   "nbconvert_exporter": "python",
   "pygments_lexer": "ipython3",
   "version": "3.7.6"
  }
 },
 "nbformat": 4,
 "nbformat_minor": 4
}
